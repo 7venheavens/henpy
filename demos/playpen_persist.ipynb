{
 "cells": [
  {
   "cell_type": "code",
   "execution_count": 24,
   "metadata": {},
   "outputs": [
    {
     "name": "stdout",
     "output_type": "stream",
     "text": [
      "The autoreload extension is already loaded. To reload it, use:\n",
      "  %reload_ext autoreload\n"
     ]
    }
   ],
   "source": [
    "%load_ext autoreload\n",
    "%autoreload 2\n",
    "import sqlalchemy\n",
    "from sqlalchemy import create_engine\n",
    "from sqlalchemy.orm import sessionmaker\n",
    "from datetime import datetime\n",
    "\n",
    "from henpy.searchers import searchers\n",
    "from henpy.persist.tables import Base\n",
    "from henpy.persist import tables\n",
    "from henpy.utilities.tagtools import TagManager"
   ]
  },
  {
   "cell_type": "code",
   "execution_count": 34,
   "metadata": {},
   "outputs": [],
   "source": [
    "import os\n",
    "# Create the database connection and initialize the database\n",
    "table_path = \"test.sqlite3\"\n",
    "try:\n",
    "    os.remove(table_path)\n",
    "except FileNotFoundError:\n",
    "    pass\n",
    "\n",
    "engine = create_engine(f\"sqlite:///{table_path}\")\n",
    "\n",
    "Base.metadata.create_all(engine)\n",
    "\n",
    "Session = sessionmaker(bind=engine)\n",
    "session = Session()\n",
    "\n",
    "# Initialize the tag manager from an existing dump\n",
    "tm = TagManager.from_file(\"data/tagdata.tsv\")\n",
    "for tag in tm.tags:\n",
    "    tag_name = tag.data[tag.base_lang].name\n",
    "    db_tag = tables.Tag(name=tag_name)\n",
    "    db_tag.data = [tables.TagData(language=tag_datum.lang,\n",
    "                                  name=tag_datum.name,\n",
    "                                  display_name=tag_datum.display_name)for lang, tag_datum in tag.data.items()]\n",
    "    session.add(db_tag)\n",
    "session.commit()"
   ]
  },
  {
   "cell_type": "code",
   "execution_count": 35,
   "metadata": {},
   "outputs": [
    {
     "name": "stdout",
     "output_type": "stream",
     "text": [
      "[<henpy.persist.tables.Tag object at 0x0000023074B96240>, <henpy.persist.tables.Tag object at 0x0000023074925240>, <henpy.persist.tables.Tag object at 0x000002307497DE10>]\n"
     ]
    }
   ],
   "source": [
    "# Prepopulate with a sample video and a reduced set of it's associated tags\n",
    "\"\"\"\n",
    "[<VideoMetadata:code=MADM-101|tags=[<Tag:data=<TagData:genre-Creampie>>, <Tag:data=<TagData:genre-Solowork>>, <Tag:data=<TagData:genre-Girl>>, <Tag:data=<TagData:genre-Beautiful Girl>>, <Tag:data=<TagData:genre-Slut>>, <Tag:data=<TagData:genre-Bride, Young Wife>>, <Tag:data=<TagData:genre-Drama>>, <Tag:data=<TagData:star-Atomi Shuri>>]>]\n",
    "\"\"\"\n",
    "def get_tag(tag_name, session=session):\n",
    "    \"\"\"Quick and dirty function to get the tag\"\"\"\n",
    "    res = session.query(tables.Tag)\\\n",
    "                 .filter(tables.Tag.data.any(tables.TagData.name==tag_name)).first()\n",
    "    if res:\n",
    "        return res\n",
    "    return None\n",
    "\n",
    "tags = [\"Creampie\", \"Solowork\", \"Slut\"]\n",
    "tags = [get_tag(i) for i in tags]\n",
    "print(tags)\n",
    "video = tables.Video(code=\"MADM-101\",\n",
    "                     release_date=datetime.strptime(\"2014-01-24\", \"%Y-%m-%d\"),\n",
    "                     image_path=None,\n",
    "                     director=\"\",\n",
    "                     maker=\"\",\n",
    "                     label=\"\",\n",
    "                     tags=tags)\n",
    "session.add(video)\n",
    "session.commit()\n",
    "\n"
   ]
  },
  {
   "cell_type": "code",
   "execution_count": 36,
   "metadata": {},
   "outputs": [
    {
     "data": {
      "text/plain": [
       "[]"
      ]
     },
     "execution_count": 36,
     "metadata": {},
     "output_type": "execute_result"
    }
   ],
   "source": [
    "t1 = session.query(tables.Tag).limit(5).all()\n",
    "t2 = t1[0]\n",
    "t2.videos"
   ]
  },
  {
   "cell_type": "code",
   "execution_count": 37,
   "metadata": {},
   "outputs": [],
   "source": [
    "tm = TagManager()\n",
    "s = searchers.JavlibrarySearcher(tm)\n",
    "\n",
    "\n"
   ]
  },
  {
   "cell_type": "code",
   "execution_count": 9,
   "metadata": {
    "collapsed": true
   },
   "outputs": [
    {
     "name": "stdout",
     "output_type": "stream",
     "text": [
      "LOVE-49\n",
      "\n",
      "2014-01-24\n",
      "[<VideoMetadata:code=LOVE-48|tags=[<Tag:data=<TagData:genre-Girl>>, <Tag:data=<TagData:genre-Best, Omnibus>>, <Tag:data=<TagData:genre-Beautiful Girl>>, <Tag:data=<TagData:genre-Bukkake>>, <Tag:data=<TagData:genre-4HR+>>, <Tag:data=<TagData:star-Uehara Ai>>, <Tag:data=<TagData:star-Tsubomi>>, <Tag:data=<TagData:star-Hatsume Rina>>, <Tag:data=<TagData:star-Kasugano Yui>>, <Tag:data=<TagData:star-Aoi Koharu>>, <Tag:data=<TagData:star-Usui Aimi>>, <Tag:data=<TagData:star-Aoi Ichigo>>]>]\n",
      "[<VideoMetadata:code=MADM-101|tags=[<Tag:data=<TagData:genre-Creampie>>, <Tag:data=<TagData:genre-Solowork>>, <Tag:data=<TagData:genre-Girl>>, <Tag:data=<TagData:genre-Beautiful Girl>>, <Tag:data=<TagData:genre-Slut>>, <Tag:data=<TagData:genre-Bride, Young Wife>>, <Tag:data=<TagData:genre-Drama>>, <Tag:data=<TagData:star-Atomi Shuri>>]>]\n"
     ]
    }
   ],
   "source": [
    "a = s.search(\"LOVE-049\", return_multi=True)\n",
    "b = s.search(\"LOVE-048\", return_multi=True)\n",
    "c = s.search(\"MADM-101\", return_multi=True)\n"
   ]
  },
  {
   "cell_type": "code",
   "execution_count": 45,
   "metadata": {},
   "outputs": [
    {
     "name": "stdout",
     "output_type": "stream",
     "text": [
      "LOVE-49\n",
      "\n",
      "2014-01-24\n",
      "[<VideoMetadata:code=MADM-101|tags=[<Tag:data=<TagData:genre-Creampie>>, <Tag:data=<TagData:genre-Solowork>>, <Tag:data=<TagData:genre-Girl>>, <Tag:data=<TagData:genre-Beautiful Girl>>, <Tag:data=<TagData:genre-Slut>>, <Tag:data=<TagData:genre-Bride, Young Wife>>, <Tag:data=<TagData:genre-Drama>>, <Tag:data=<TagData:star-Atomi Shuri>>]>]\n",
      "2018-11-23\n"
     ]
    }
   ],
   "source": [
    "video_data = a[0]\n",
    "print(video_data.code)\n",
    "print(video_data.director)\n",
    "print(video_data.release_date)\n",
    "video_data.tags\n",
    "video_data_2 = b[0]\n",
    "print(c)\n",
    "print(c[0].release_date)"
   ]
  },
  {
   "cell_type": "code",
   "execution_count": 48,
   "metadata": {},
   "outputs": [
    {
     "name": "stdout",
     "output_type": "stream",
     "text": [
      "[<VideoMetadata:code=LOVE-49>]\n"
     ]
    },
    {
     "data": {
      "text/plain": [
       "[]"
      ]
     },
     "execution_count": 48,
     "metadata": {},
     "output_type": "execute_result"
    }
   ],
   "source": [
    "def get_videos(code, session=session):\n",
    "    return session.query(tables.Video).filter(tables.Video.code==code).all()\n",
    "\n",
    "def get_tag(tag_name, session=session):\n",
    "    \"\"\"Quick and dirty function to get the tag. To be replaced with nice little class method\"\"\"\n",
    "    res = session.query(tables.Tag)\\\n",
    "                 .filter(tables.Tag.data.any(tables.TagData.name==tag_name)).first()\n",
    "    if res:\n",
    "        return res\n",
    "    return None\n",
    "    \n",
    "\n",
    "# Check if other videos with this code exist\n",
    "existing_videos = get_videos(video_data.code)\n",
    "print(existing_videos)\n",
    "existing_videos[0].tags\n",
    "      \n",
    "# # Add the video to the session and all its tags too\n",
    "# v_row = tables.Video(code=video_data.code,\n",
    "#                      release_date=datetime.strptime(video_data.release_date, \"%Y-%m-%d\"),\n",
    "#                      image_path=video_data.image_path,\n",
    "#                      director=video_data.director,\n",
    "#                      maker=video_data.maker,\n",
    "#                      label=video_data.label)\n",
    "\n",
    "\n",
    "\n",
    "\n",
    "# session.add(v_row)\n",
    "# session.commit()\n",
    "\n"
   ]
  },
  {
   "cell_type": "code",
   "execution_count": 58,
   "metadata": {},
   "outputs": [
    {
     "name": "stdout",
     "output_type": "stream",
     "text": [
      "<Tag:data=<TagData:genre-Creampie>>\n",
      "en Creampie genre\n",
      "<Tag:data=<TagData:genre-Girl>>\n",
      "en Girl genre\n",
      "<Tag:data=<TagData:genre-Voyeur>>\n",
      "en Voyeur genre\n",
      "<Tag:data=<TagData:genre-Bukkake>>\n",
      "en Bukkake genre\n",
      "<Tag:data=<TagData:genre-Rape>>\n",
      "en Rape genre\n",
      "<Tag:data=<TagData:star-Aoi Ichigo>>\n",
      "en Aoi Ichigo star\n"
     ]
    }
   ],
   "source": [
    "v = existing_videos[0]\n",
    "# Create the tags\n",
    "for tag in video_data.tags:\n",
    "    print(tag)\n",
    "    for lang, data in tag.data.items():\n",
    "        print(lang, data.name, data.type)"
   ]
  },
  {
   "cell_type": "code",
   "execution_count": 27,
   "metadata": {},
   "outputs": [],
   "source": []
  },
  {
   "cell_type": "code",
   "execution_count": 37,
   "metadata": {},
   "outputs": [
    {
     "data": {
      "text/plain": [
       "'LOVE-49'"
      ]
     },
     "execution_count": 37,
     "metadata": {},
     "output_type": "execute_result"
    }
   ],
   "source": [
    "a = session.query(tables.Video).all()[0]\n",
    "a.code"
   ]
  },
  {
   "cell_type": "code",
   "execution_count": 6,
   "metadata": {},
   "outputs": [],
   "source": [
    "\n",
    "class VideoTagManager:\n",
    "    def __init__(self, db_path):\n",
    "        self.session = _init_db(db_path)\n",
    "        \n",
    "    def _init_db(self, db_path):\n",
    "        engine = create_engine(\"sqlite:///\" + db_path)\n",
    "        Session = sessionmaker(bind=engine)\n",
    "        session = Session()\n",
    "        return session()\n",
    "    \n",
    "    def get_tag(self, tag_name):\n",
    "        pass\n",
    "    \n",
    "    def get_videos(self, video_code):\n",
    "        pass\n",
    "    \n",
    "    def add_video(self, md):\n",
    "        \"\"\"Adds a video to the database\n",
    "        @args\n",
    "            md (VideoMetaData object from henpy searcher)\n",
    "        \"\"\"\n",
    "        # Check for exisiting \n",
    "        tables.Video(code=md.code,\n",
    "                     release_date=md.release_date,\n",
    "                     image_path=md.image_path,\n",
    "                     director=md.director,\n",
    "                     maker=md.maker,\n",
    "                     label=md.label)\n",
    "\n",
    "        "
   ]
  },
  {
   "cell_type": "code",
   "execution_count": 21,
   "metadata": {},
   "outputs": [
    {
     "data": {
      "text/plain": [
       "'<henpy.persist.tables.Tag object at 0x0000023074925B38>'"
      ]
     },
     "execution_count": 21,
     "metadata": {},
     "output_type": "execute_result"
    }
   ],
   "source": [
    "session.query(tables.Tag)\\\n",
    "       .filter(tables.Tag.data.any(tables.TagData.name==\"Creampie\"))"
   ]
  },
  {
   "cell_type": "code",
   "execution_count": null,
   "metadata": {},
   "outputs": [],
   "source": []
  }
 ],
 "metadata": {
  "kernelspec": {
   "display_name": "Python [default]",
   "language": "python",
   "name": "python3"
  },
  "language_info": {
   "codemirror_mode": {
    "name": "ipython",
    "version": 3
   },
   "file_extension": ".py",
   "mimetype": "text/x-python",
   "name": "python",
   "nbconvert_exporter": "python",
   "pygments_lexer": "ipython3",
   "version": "3.6.5"
  }
 },
 "nbformat": 4,
 "nbformat_minor": 2
}
